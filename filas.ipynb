{
  "nbformat": 4,
  "nbformat_minor": 0,
  "metadata": {
    "colab": {
      "provenance": [],
      "include_colab_link": true
    },
    "kernelspec": {
      "name": "python3",
      "display_name": "Python 3"
    },
    "language_info": {
      "name": "python"
    }
  },
  "cells": [
    {
      "cell_type": "markdown",
      "metadata": {
        "id": "view-in-github",
        "colab_type": "text"
      },
      "source": [
        "<a href=\"https://colab.research.google.com/github/edu-ard0/filasaula/blob/main/filas.ipynb\" target=\"_parent\"><img src=\"https://colab.research.google.com/assets/colab-badge.svg\" alt=\"Open In Colab\"/></a>"
      ]
    },
    {
      "cell_type": "code",
      "execution_count": null,
      "metadata": {
        "colab": {
          "base_uri": "https://localhost:8080/"
        },
        "id": "y_yOmDlTLw1R",
        "outputId": "08bbd597-f48f-4878-a7fc-ffc53aa3a423"
      },
      "outputs": [
        {
          "output_type": "stream",
          "name": "stdout",
          "text": [
            "Fila vazia:  [None]\n",
            "Insere o valor 0 final da fila: [0 -> None]\n",
            "Insere o valor 1 final da fila: [0 -> 1 -> None]\n",
            "Insere o valor 2 final da fila: [0 -> 1 -> 2 -> None]\n",
            "Insere o valor 3 final da fila: [0 -> 1 -> 2 -> 3 -> None]\n",
            "Insere o valor 4 final da fila: [0 -> 1 -> 2 -> 3 -> 4 -> None]\n",
            "Removendo elemento que está no começo da fila:  [1 -> 2 -> 3 -> 4 -> None]\n",
            "Removendo elemento que está no começo da fila:  [2 -> 3 -> 4 -> None]\n",
            "Removendo elemento que está no começo da fila:  [3 -> 4 -> None]\n",
            "Removendo elemento que está no começo da fila:  [4 -> None]\n",
            "Removendo elemento que está no começo da fila:  [None]\n"
          ]
        }
      ],
      "source": [
        "class Nodo:\n",
        "    \"\"\"Esta classe representa um nodo de uma estrutura duplamente encadeada.\"\"\"\n",
        "    def __init__(self, dado=0, proximo_nodo=None):\n",
        "        self.dado = dado\n",
        "        self.proximo = proximo_nodo\n",
        "\n",
        "    def __repr__(self):\n",
        "        return '%s -> %s' % (self.dado, self.proximo)\n",
        "\n",
        "class Fila:\n",
        "    \"\"\"Esta classe representa uma fila usando uma estrutura encadeada.\"\"\"\n",
        "\n",
        "    def __init__(self):\n",
        "        self.primeiro = None\n",
        "        self.ultimo   = None\n",
        "\n",
        "\n",
        "    def __repr__(self):\n",
        "        return \"[\" + str(self.primeiro) + \"]\"\n",
        "\n",
        "    def insere(self, novo_dado):\n",
        "        \"\"\"Insere um elemento no final da fila.\"\"\"\n",
        "\n",
        "        # Cria um novo nodo com o dado a ser armazenado.\n",
        "        novo_nodo = Nodo(novo_dado)\n",
        "\n",
        "        # Insere em uma fila vazia.\n",
        "        if self.primeiro == None:\n",
        "            self.primeiro = novo_nodo\n",
        "            self.ultimo = novo_nodo\n",
        "        else:\n",
        "            # Faz com que o novo nodo seja o último da fila.\n",
        "            self.ultimo.proximo = novo_nodo\n",
        "\n",
        "            # Faz com que o último da fila referencie o novo nodo.\n",
        "            self.ultimo = novo_nodo\n",
        "\n",
        "    def remove(self):\n",
        "        \"\"\"Remove o último elemento da fila.\"\"\"\n",
        "\n",
        "        assert self.primeiro != None, \"Impossível remover elemento de fila vazia.\"\n",
        "\n",
        "        self.primeiro = self.primeiro.proximo\n",
        "\n",
        "        if self.primeiro == None:\n",
        "            self.ultimo = None\n",
        "\n",
        "# Cria uma fila vazia.\n",
        "fila = Fila()\n",
        "print(\"Fila vazia: \", fila)\n",
        "\n",
        "# Insere elementos na fila.\n",
        "for i in range(5):\n",
        "    fila.insere(i)\n",
        "    print(\"Insere o valor {0} final da fila: {1}\".format(i, fila))\n",
        "\n",
        "# Remove elementos da fila.\n",
        "while fila.primeiro != None:\n",
        "    fila.remove()\n",
        "    print(\"Removendo elemento que está no começo da fila: \", fila)"
      ]
    }
  ]
}