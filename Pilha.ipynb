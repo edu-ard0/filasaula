{
  "nbformat": 4,
  "nbformat_minor": 0,
  "metadata": {
    "colab": {
      "provenance": [],
      "include_colab_link": true
    },
    "kernelspec": {
      "name": "python3",
      "display_name": "Python 3"
    },
    "language_info": {
      "name": "python"
    }
  },
  "cells": [
    {
      "cell_type": "markdown",
      "metadata": {
        "id": "view-in-github",
        "colab_type": "text"
      },
      "source": [
        "<a href=\"https://colab.research.google.com/github/edu-ard0/filasaula/blob/main/Pilha.ipynb\" target=\"_parent\"><img src=\"https://colab.research.google.com/assets/colab-badge.svg\" alt=\"Open In Colab\"/></a>"
      ]
    },
    {
      "cell_type": "code",
      "execution_count": null,
      "metadata": {
        "colab": {
          "base_uri": "https://localhost:8080/"
        },
        "id": "Rq-kCVGMRyyu",
        "outputId": "1ee8b5fe-a30d-4aa5-823e-2de0424b7e38"
      },
      "outputs": [
        {
          "output_type": "stream",
          "name": "stdout",
          "text": [
            "Pilha vazia:  [None]\n",
            "Insere o valor 0 no topo da pilha: [0 -> None]\n",
            "Insere o valor 1 no topo da pilha: [1 -> 0 -> None]\n",
            "Insere o valor 2 no topo da pilha: [2 -> 1 -> 0 -> None]\n",
            "Insere o valor 3 no topo da pilha: [3 -> 2 -> 1 -> 0 -> None]\n",
            "Insere o valor 4 no topo da pilha: [4 -> 3 -> 2 -> 1 -> 0 -> None]\n",
            "Removendo elemento que está no topo da pilha:  [3 -> 2 -> 1 -> 0 -> None]\n",
            "Removendo elemento que está no topo da pilha:  [2 -> 1 -> 0 -> None]\n",
            "Removendo elemento que está no topo da pilha:  [1 -> 0 -> None]\n",
            "Removendo elemento que está no topo da pilha:  [0 -> None]\n",
            "Removendo elemento que está no topo da pilha:  [None]\n"
          ]
        }
      ],
      "source": [
        "class Nodo:\n",
        "    \"\"\"Esta classe representa um nodo de uma estrutura encadeada.\"\"\"\n",
        "    def __init__(self, dado=0, nodo_anterior=None):\n",
        "        self.dado = dado\n",
        "        self.anterior = nodo_anterior\n",
        "\n",
        "    def __repr__(self):\n",
        "        return '%s -> %s' % (self.dado, self.anterior)\n",
        "\n",
        "\n",
        "class Pilha:\n",
        "    \"\"\"Esta classe representa uma pilha usando uma estrutura encadeada.\"\"\"\n",
        "\n",
        "    def __init__(self):\n",
        "        self.topo = None\n",
        "\n",
        "\n",
        "    def __repr__(self):\n",
        "        return \"[\" + str(self.topo) + \"]\"\n",
        "\n",
        "    def insere(self, novo_dado):\n",
        "        \"\"\"Insere um elemento no final da pilha.\"\"\"\n",
        "\n",
        "        # Cria um novo nodo com o dado a ser armazenado.\n",
        "        novo_nodo = Nodo(novo_dado)\n",
        "\n",
        "        # Faz com que o novo nodo seja o topo da pilha.\n",
        "        novo_nodo.anterior = self.topo\n",
        "\n",
        "        # Faz com que a cabeça da lista referencie o novo nodo.\n",
        "        self.topo = novo_nodo\n",
        "\n",
        "    def remove(self):\n",
        "        \"\"\"Remove o elemento que está no topo da pilha.\"\"\"\n",
        "\n",
        "        assert self.topo, \"Impossível remover valor de pilha vazia.\"\n",
        "\n",
        "        self.topo = self.topo.anterior\n",
        "\n",
        "# Cria uma pilha vazia.\n",
        "pilha = Pilha()\n",
        "print(\"Pilha vazia: \", pilha)\n",
        "\n",
        "# Insere elementos na pilha.\n",
        "for i in range(5):\n",
        "    pilha.insere(i)\n",
        "    print(\"Insere o valor {0} no topo da pilha: {1}\".format(i, pilha))\n",
        "\n",
        "# Remove elementos na pilha.\n",
        "while pilha.topo != None:\n",
        "    pilha.remove()\n",
        "    print(\"Removendo elemento que está no topo da pilha: \", pilha)\n"
      ]
    }
  ]
}